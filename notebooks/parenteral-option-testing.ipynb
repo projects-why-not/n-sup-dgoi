{
 "cells": [
  {
   "cell_type": "code",
   "execution_count": 1,
   "metadata": {},
   "outputs": [],
   "source": [
    "import json"
   ]
  },
  {
   "cell_type": "code",
   "execution_count": 2,
   "metadata": {},
   "outputs": [],
   "source": [
    "from cancer_nutrition.utils.db.frontend import DBProvider\n",
    "from cancer_nutrition.utils.constants.db import *\n",
    "from cancer_nutrition.utils.form.form import form_to_dict"
   ]
  },
  {
   "cell_type": "code",
   "execution_count": 3,
   "metadata": {},
   "outputs": [],
   "source": [
    "fpath = \"/Users/andreyignatov/Downloads/test-1689066441.0527298.json\"\n",
    "\n",
    "with open(fpath) as f:\n",
    "    form_dict_str = f.read()\n",
    "    form_dict_str = form_dict_str.replace(\"ImmutableMultiDict(\", \"\")[:-1]\n",
    "    form_dict_str = form_dict_str.replace(\"(\", \"[\").replace(\")\", \"]\").replace(\"'\", \"\\\"\")\n",
    "    \n",
    "    form_dict = {k: v for (k,v) in json.loads(form_dict_str)}"
   ]
  },
  {
   "cell_type": "code",
   "execution_count": 4,
   "metadata": {},
   "outputs": [],
   "source": [
    "db_provider = DBProvider(DB_NAME, DB_USER, DB_PASSWD, DB_HOST, 11459)"
   ]
  },
  {
   "cell_type": "code",
   "execution_count": 5,
   "metadata": {},
   "outputs": [],
   "source": [
    "data_config = db_provider.get_data_config()"
   ]
  },
  {
   "cell_type": "code",
   "execution_count": 6,
   "metadata": {},
   "outputs": [],
   "source": [
    "from cancer_nutrition.utils.value import str_is_unit, Value, Analysis\n",
    "from datetime import date"
   ]
  },
  {
   "cell_type": "markdown",
   "metadata": {},
   "source": [
    "# 1. Getting patient info"
   ]
  },
  {
   "cell_type": "code",
   "execution_count": 7,
   "metadata": {},
   "outputs": [],
   "source": [
    "from cancer_nutrition.patient import PatientInfo"
   ]
  },
  {
   "cell_type": "code",
   "execution_count": 8,
   "metadata": {},
   "outputs": [],
   "source": [
    "form_dict[\"1^7\"] = \"test\"\n",
    "form_dict[\"1^8\"] = \"test\"\n"
   ]
  },
  {
   "cell_type": "code",
   "execution_count": 9,
   "metadata": {},
   "outputs": [],
   "source": [
    "form_patient_info = form_to_dict(form_dict, data_config)"
   ]
  },
  {
   "cell_type": "code",
   "execution_count": 10,
   "metadata": {},
   "outputs": [],
   "source": [
    "from cancer_nutrition.utils.age import Age"
   ]
  },
  {
   "cell_type": "code",
   "execution_count": 11,
   "metadata": {
    "scrolled": true
   },
   "outputs": [
    {
     "name": "stdout",
     "output_type": "stream",
     "text": [
      "\n",
      "\n",
      "\n",
      "\n",
      "\n",
      "\n",
      "\n",
      "\n",
      "\n",
      "\n",
      "\n",
      "\n",
      "\n",
      "\n",
      "\n",
      "\n",
      "\n",
      "\n",
      "\n",
      "\n",
      "\n",
      "\n",
      "\n",
      "\n",
      "\n",
      "\n",
      "\n",
      "\n",
      "\n",
      "\n",
      "\n",
      "\n",
      "\n",
      "\n",
      "\n",
      "\n",
      "\n",
      "\n",
      "\n",
      "\n",
      "\n",
      "\n",
      "\n",
      "\n",
      "\n",
      "\n",
      "\n",
      "\n",
      "\n",
      "\n",
      "\n",
      "\n",
      "\n",
      "\n",
      "\n",
      "\n",
      "\n",
      "\n",
      "\n",
      "\n",
      "\n",
      "\n",
      "\n",
      "\n",
      "\n",
      "\n",
      "\n",
      "\n",
      "\n",
      "\n",
      "\n"
     ]
    },
    {
     "name": "stderr",
     "output_type": "stream",
     "text": [
      "1it [00:04,  4.29s/it]\n"
     ]
    }
   ],
   "source": [
    "patient_info = PatientInfo(form_patient_info, db_provider)"
   ]
  },
  {
   "cell_type": "code",
   "execution_count": 16,
   "metadata": {},
   "outputs": [
    {
     "data": {
      "text/plain": [
       "1"
      ]
     },
     "execution_count": 16,
     "metadata": {},
     "output_type": "execute_result"
    }
   ],
   "source": [
    "len(patient_info.data)"
   ]
  },
  {
   "cell_type": "code",
   "execution_count": 12,
   "metadata": {},
   "outputs": [],
   "source": [
    "from cancer_nutrition.nutrition.main import NutritionRecommender, ProteinDerivation, CarbohydrateDerivation, LipidDerivation, EnergyDerivation\n"
   ]
  },
  {
   "cell_type": "code",
   "execution_count": 13,
   "metadata": {},
   "outputs": [],
   "source": [
    "recommender = NutritionRecommender(patient_info, db_provider)"
   ]
  },
  {
   "cell_type": "code",
   "execution_count": 14,
   "metadata": {},
   "outputs": [],
   "source": [
    "patient_info.data[0][\"Доля парентерального питания\"] = 0"
   ]
  },
  {
   "cell_type": "code",
   "execution_count": 15,
   "metadata": {
    "scrolled": false
   },
   "outputs": [
    {
     "name": "stdout",
     "output_type": "stream",
     "text": [
      "1650.0\n",
      "{'Белок': {'value': 1.5, 'limits': [1.0, 1.5], 'due': 1.5}, 'Жиры': {'value': 1.5, 'limits': [0.0, 1.5], 'due': 1.5}, 'Углеводы': {'value': 5.05, 'limits': [4.3, 5.05], 'due': 5.05}, 'ККал': {'value': 1953.7952000000005, 'limits': [0, inf], 'due': 1953.7952000000002}} {'Белок_due': 1.5, 'Жиры_due': 1.5, 'Углеводы_due': 5.05, 'ККал_due': 1953.7952000000002}\n"
     ]
    }
   ],
   "source": [
    "recom_sets = recommender.get_recommendations()"
   ]
  },
  {
   "cell_type": "markdown",
   "metadata": {},
   "source": [
    " "
   ]
  },
  {
   "cell_type": "markdown",
   "metadata": {},
   "source": [
    " "
   ]
  },
  {
   "cell_type": "markdown",
   "metadata": {},
   "source": [
    " "
   ]
  },
  {
   "cell_type": "markdown",
   "metadata": {},
   "source": [
    "# Вариации производных параметров"
   ]
  },
  {
   "cell_type": "code",
   "execution_count": 27,
   "metadata": {},
   "outputs": [
    {
     "data": {
      "text/plain": [
       "<cancer_nutrition.utils.db.db.DBWrapper at 0x11a148ac0>"
      ]
     },
     "execution_count": 27,
     "metadata": {},
     "output_type": "execute_result"
    }
   ],
   "source": [
    "db_provider.wrapper.get_nutrition()"
   ]
  },
  {
   "cell_type": "code",
   "execution_count": 63,
   "metadata": {},
   "outputs": [
    {
     "data": {
      "text/plain": [
       "['Нормальный нутритивный статус',\n",
       " 'Легкая белково-энергетическая недостаточность',\n",
       " 'Умеренная белково-энергетическая недостаточность',\n",
       " 'Тяжелая белково-энергетическая недостаточность',\n",
       " 'Избыточная масса тела',\n",
       " 'Ожирение 1 степени',\n",
       " 'Ожирение 2 степени',\n",
       " 'Ожирение 3 степени',\n",
       " 'Ожирение тяжелое',\n",
       " 'Дефицит висцерального пула белка',\n",
       " 'Тек*Небелковые ккал',\n",
       " 'СКФ',\n",
       " 'Острая печеночная недостаточность',\n",
       " 'Лабораторные признаки холестаза',\n",
       " 'Острое повреждение почек',\n",
       " 'Лабораторные признаки острого панкреатита',\n",
       " 'Ожидаемая токсичность',\n",
       " 'Идеальная масса тела',\n",
       " 'Риск рефидинг-синдрома']"
      ]
     },
     "execution_count": 63,
     "metadata": {},
     "output_type": "execute_result"
    }
   ],
   "source": [
    "patient_info.data[0][\"Производные параметры\"][5:]"
   ]
  },
  {
   "cell_type": "code",
   "execution_count": 59,
   "metadata": {},
   "outputs": [
    {
     "data": {
      "text/plain": [
       "{'Возраст': <cancer_nutrition.utils.age.Age at 0x108df0940>,\n",
       " 'ИМТ': 20.25462962962963,\n",
       " 'z-score роста': 0.9039164463919938,\n",
       " 'z-score массы тела': None,\n",
       " 'z-score ИМТ': 1.632050097270929,\n",
       " 'Нормальный нутритивный статус': False,\n",
       " 'Легкая белково-энергетическая недостаточность': False,\n",
       " 'Умеренная белково-энергетическая недостаточность': False,\n",
       " 'Тяжелая белково-энергетическая недостаточность': False,\n",
       " 'Избыточная масса тела': True,\n",
       " 'Ожирение 1 степени': False,\n",
       " 'Ожирение 2 степени': False,\n",
       " 'Ожирение 3 степени': False,\n",
       " 'Ожирение тяжелое': False,\n",
       " 'Дефицит висцерального пула белка': True,\n",
       " 'Тек*Небелковые ккал': 22.352941176470587,\n",
       " 'СКФ': 116.82026932668329,\n",
       " 'Острая печеночная недостаточность': False,\n",
       " 'Лабораторные признаки холестаза': 0.0,\n",
       " 'Острое повреждение почек': 0,\n",
       " 'Лабораторные признаки острого панкреатита': 0,\n",
       " 'Ожидаемая токсичность': 0,\n",
       " 'Идеальная масса тела': None,\n",
       " 'Риск рефидинг-синдрома': 0.0}"
      ]
     },
     "execution_count": 59,
     "metadata": {},
     "output_type": "execute_result"
    }
   ],
   "source": [
    "{k: patient_info.data[0][k] \n",
    " for k in patient_info.data[0][\"Производные параметры\"]}"
   ]
  },
  {
   "cell_type": "code",
   "execution_count": null,
   "metadata": {},
   "outputs": [],
   "source": []
  },
  {
   "cell_type": "code",
   "execution_count": 60,
   "metadata": {},
   "outputs": [
    {
     "data": {
      "text/plain": [
       "['Возраст',\n",
       " 'ИМТ',\n",
       " 'z-score роста',\n",
       " 'z-score массы тела',\n",
       " 'z-score ИМТ',\n",
       " 'Нормальный нутритивный статус',\n",
       " 'Легкая белково-энергетическая недостаточность',\n",
       " 'Умеренная белково-энергетическая недостаточность',\n",
       " 'Тяжелая белково-энергетическая недостаточность',\n",
       " 'Избыточная масса тела',\n",
       " 'Ожирение 1 степени',\n",
       " 'Ожирение 2 степени',\n",
       " 'Ожирение 3 степени',\n",
       " 'Ожирение тяжелое',\n",
       " 'Дефицит висцерального пула белка',\n",
       " 'Тек*Небелковые ккал',\n",
       " 'СКФ',\n",
       " 'Острая печеночная недостаточность',\n",
       " 'Лабораторные признаки холестаза',\n",
       " 'Острое повреждение почек',\n",
       " 'Лабораторные признаки острого панкреатита',\n",
       " 'Ожидаемая токсичность',\n",
       " 'Идеальная масса тела',\n",
       " 'Риск рефидинг-синдрома']"
      ]
     },
     "execution_count": 60,
     "metadata": {},
     "output_type": "execute_result"
    }
   ],
   "source": []
  },
  {
   "cell_type": "code",
   "execution_count": null,
   "metadata": {},
   "outputs": [],
   "source": []
  },
  {
   "cell_type": "code",
   "execution_count": null,
   "metadata": {},
   "outputs": [],
   "source": []
  },
  {
   "cell_type": "code",
   "execution_count": null,
   "metadata": {},
   "outputs": [],
   "source": []
  },
  {
   "cell_type": "code",
   "execution_count": null,
   "metadata": {},
   "outputs": [],
   "source": []
  },
  {
   "cell_type": "code",
   "execution_count": null,
   "metadata": {},
   "outputs": [],
   "source": []
  }
 ],
 "metadata": {
  "kernelspec": {
   "display_name": "Python 3",
   "language": "python",
   "name": "python3"
  },
  "language_info": {
   "codemirror_mode": {
    "name": "ipython",
    "version": 3
   },
   "file_extension": ".py",
   "mimetype": "text/x-python",
   "name": "python",
   "nbconvert_exporter": "python",
   "pygments_lexer": "ipython3",
   "version": "3.8.17"
  }
 },
 "nbformat": 4,
 "nbformat_minor": 4
}
