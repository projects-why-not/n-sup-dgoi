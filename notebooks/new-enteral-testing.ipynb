{
 "cells": [
  {
   "cell_type": "code",
   "execution_count": 1,
   "metadata": {},
   "outputs": [],
   "source": [
    "from pulp import *"
   ]
  },
  {
   "cell_type": "code",
   "execution_count": 2,
   "metadata": {},
   "outputs": [],
   "source": [
    "import json\n",
    "import numpy as np"
   ]
  },
  {
   "cell_type": "code",
   "execution_count": 3,
   "metadata": {},
   "outputs": [],
   "source": [
    "from cancer_nutrition.utils.db.frontend import DBProvider\n",
    "from cancer_nutrition.utils.constants.db import *\n",
    "from cancer_nutrition.utils.form.form import form_to_dict"
   ]
  },
  {
   "cell_type": "code",
   "execution_count": 4,
   "metadata": {},
   "outputs": [],
   "source": [
    "fpath = \"/Users/andreyignatov/Downloads/test-1689066441.0527298.json\"\n",
    "# fpath = \"/Users/andreyignatov/Downloads/test-1689066441.0527298.json\"\n",
    "\n",
    "with open(fpath) as f:\n",
    "    form_dict_str = f.read()\n",
    "    form_dict_str = form_dict_str.replace(\"ImmutableMultiDict(\", \"\")[:-1]\n",
    "    form_dict_str = form_dict_str.replace(\"(\", \"[\").replace(\")\", \"]\").replace(\"'\", \"\\\"\")\n",
    "    \n",
    "    form_dict = {k: v for (k,v) in json.loads(form_dict_str)}"
   ]
  },
  {
   "cell_type": "code",
   "execution_count": 5,
   "metadata": {},
   "outputs": [],
   "source": [
    "db_provider = DBProvider(DB_NAME, DB_USER, DB_PASSWD, DB_HOST, 11459)"
   ]
  },
  {
   "cell_type": "code",
   "execution_count": 140,
   "metadata": {},
   "outputs": [],
   "source": [
    "# data_config = db_provider.get_data_config()"
   ]
  },
  {
   "cell_type": "code",
   "execution_count": 141,
   "metadata": {},
   "outputs": [],
   "source": [
    "data_config = np.load(\"./data_config.npy\", allow_pickle=True)\n",
    "# data_config = \n",
    "\n",
    "data_config = data_config.item()"
   ]
  },
  {
   "cell_type": "code",
   "execution_count": 142,
   "metadata": {},
   "outputs": [],
   "source": [
    "from cancer_nutrition.utils.value import str_is_unit, Value, Analysis\n",
    "from datetime import date"
   ]
  },
  {
   "cell_type": "markdown",
   "metadata": {},
   "source": [
    "# 1. Getting patient info"
   ]
  },
  {
   "cell_type": "code",
   "execution_count": 143,
   "metadata": {},
   "outputs": [],
   "source": [
    "from cancer_nutrition.patient import PatientInfo"
   ]
  },
  {
   "cell_type": "code",
   "execution_count": 144,
   "metadata": {},
   "outputs": [],
   "source": [
    "form_dict[\"1^7\"] = \"test\"\n",
    "form_dict[\"1^8\"] = \"test\"\n"
   ]
  },
  {
   "cell_type": "code",
   "execution_count": 145,
   "metadata": {},
   "outputs": [],
   "source": [
    "form_patient_info = form_to_dict(form_dict, data_config)"
   ]
  },
  {
   "cell_type": "code",
   "execution_count": 146,
   "metadata": {},
   "outputs": [],
   "source": [
    "from cancer_nutrition.utils.age import Age"
   ]
  },
  {
   "cell_type": "code",
   "execution_count": 147,
   "metadata": {
    "scrolled": true
   },
   "outputs": [
    {
     "name": "stdout",
     "output_type": "stream",
     "text": [
      "\n",
      "\n",
      "\n",
      "\n",
      "\n",
      "\n",
      "\n",
      "\n",
      "\n",
      "\n",
      "\n",
      "\n",
      "\n",
      "\n",
      "\n",
      "\n",
      "\n",
      "\n",
      "\n",
      "\n",
      "\n",
      "\n",
      "\n",
      "\n",
      "\n",
      "\n",
      "\n",
      "\n",
      "\n",
      "\n",
      "\n",
      "\n",
      "\n",
      "\n",
      "\n",
      "\n",
      "\n",
      "\n",
      "\n",
      "\n",
      "\n",
      "\n",
      "\n",
      "\n",
      "\n",
      "\n",
      "\n",
      "\n",
      "\n",
      "\n",
      "\n",
      "\n",
      "\n",
      "\n",
      "\n",
      "\n",
      "\n",
      "\n",
      "\n",
      "\n",
      "\n",
      "\n",
      "\n",
      "\n",
      "\n",
      "\n",
      "\n",
      "\n",
      "\n",
      "\n",
      "\n"
     ]
    },
    {
     "name": "stderr",
     "output_type": "stream",
     "text": [
      "1it [00:00,  1.20it/s]\n"
     ]
    }
   ],
   "source": [
    "patient_info = PatientInfo(form_patient_info, db_provider)"
   ]
  },
  {
   "cell_type": "code",
   "execution_count": 149,
   "metadata": {},
   "outputs": [
    {
     "data": {
      "text/plain": [
       "{'Возраст': <cancer_nutrition.utils.age.Age at 0x12a1d8af0>,\n",
       " 'ИМТ': 20.25462962962963,\n",
       " 'z-score роста': 0.9039164463919938,\n",
       " 'z-score массы тела': None,\n",
       " 'z-score ИМТ': 1.632050097270929,\n",
       " 'Нормальный нутритивный статус': False,\n",
       " 'Легкая белково-энергетическая недостаточность': False,\n",
       " 'Умеренная белково-энергетическая недостаточность': False,\n",
       " 'Тяжелая белково-энергетическая недостаточность': False,\n",
       " 'Избыточная масса тела': True,\n",
       " 'Ожирение 1 степени': False,\n",
       " 'Ожирение 2 степени': False,\n",
       " 'Ожирение 3 степени': False,\n",
       " 'Ожирение тяжелое': False,\n",
       " 'Дефицит висцерального пула белка': True,\n",
       " 'Тек*Небелковые ккал': 22.352941176470587,\n",
       " 'СКФ': 116.82026932668329,\n",
       " 'Острая печеночная недостаточность': False,\n",
       " 'Лабораторные признаки холестаза': 0.0,\n",
       " 'Острое повреждение почек': 0,\n",
       " 'Лабораторные признаки острого панкреатита': 0,\n",
       " 'Ожидаемая токсичность': 0,\n",
       " 'Идеальная масса тела': None}"
      ]
     },
     "execution_count": 149,
     "metadata": {},
     "output_type": "execute_result"
    }
   ],
   "source": [
    "{k: patient_info.data[0][k] for k in patient_info.data[0][\"Производные параметры\"]}"
   ]
  },
  {
   "cell_type": "code",
   "execution_count": 150,
   "metadata": {},
   "outputs": [],
   "source": [
    "def _make_problem(Ps, Ls, Cs, Es, f,\n",
    "                  enterals,\n",
    "                  enteral_tags,\n",
    "                  tag_weights,\n",
    "                  m, age_years,\n",
    "                  sipping=True,\n",
    "                  disabled=None):\n",
    "    \"\"\"\n",
    "    Ps, Ls, Cs, Es - посчитанные по формулам белок, жиры, углеводы, ккал\n",
    "    f - доля питания\n",
    "    m - масса, кг\n",
    "    \"\"\"\n",
    "    M = 1e7\n",
    "\n",
    "    prob = LpProblem(\"en-selection\", LpMinimize)\n",
    "\n",
    "    P = LpVariable(\"P\")\n",
    "    L = LpVariable(\"L\")\n",
    "    C = LpVariable(\"C\")\n",
    "    E = LpVariable(\"E\")\n",
    "\n",
    "    en_weights = {k: sum([(tag in en_tags) * weight\n",
    "                          for tag, weight in tag_weights.items()])\n",
    "                  for k, en_tags in enteral_tags.items()}\n",
    "    \n",
    "    # i'th enteral chosen or not\n",
    "    xs = LpVariable.dicts(\"x\",\n",
    "                          (i for i in range(len(enterals))),\n",
    "                          cat=\"Binary\")\n",
    "    ent_doses = LpVariable.dicts(\"xv\",\n",
    "                                 (i for i in range(len(enterals))),\n",
    "                                 cat=\"Continuous\",\n",
    "                                 lowBound=0)\n",
    "\n",
    "    f1, f2 = LpVariable(\"abs_plc_delta\"), LpVariable(\"n_nutritions\")\n",
    "    f3, f4 = LpVariable(\"cvk_selection\"), LpVariable(\"total_volume\")\n",
    "    f5, f6 = LpVariable(\"tagging\"), LpVariable(\"sipping_tube\")\n",
    "\n",
    "    if disabled is None:\n",
    "        disabled = []\n",
    "    for i, (name, features) in enumerate(enterals.items()):\n",
    "        if \"Углеводы/100мл\" not in features:\n",
    "            disabled += [i]\n",
    "\n",
    "    prob += P * f == lpSum([features[\"Белок/100мл\"] * ent_doses[i]\n",
    "                            for i, (name, features) in enumerate(enterals.items()) if i not in disabled])\n",
    "    prob += L * f == lpSum([features[\"Жиры/100мл\"] * ent_doses[i]\n",
    "                            for i, (name, features) in enumerate(enterals.items()) if i not in disabled])\n",
    "    prob += C * f == lpSum([features[\"Углеводы/100мл\"] * ent_doses[i]\n",
    "                            for i, (name, features) in enumerate(enterals.items()) if i not in disabled])\n",
    "    prob += E * f == lpSum([features[\"ККал/100мл\"] * ent_doses[i]\n",
    "                            for i, (name, features) in enumerate(enterals.items()) if i not in disabled])\n",
    "\n",
    "    for i in range(len(enterals)):\n",
    "        prob += ent_doses[i] <= xs[i] * M\n",
    "\n",
    "    for i, (par_name, par) in enumerate(enterals.items()):\n",
    "        if (\"Возраст\" not in par) or (age_years < par[\"Возраст\"]):\n",
    "            prob += xs[i] == 0\n",
    "        if disabled is not None and par_name in disabled:\n",
    "            prob += xs[i] == 0\n",
    "\n",
    "    mp, ml, mc, me = LpVariable(\"mp\"), LpVariable(\"ml\"), LpVariable(\"mc\"), LpVariable(\"me\")\n",
    "\n",
    "    prob += mp >= P - Ps\n",
    "    prob += mp >= Ps - P\n",
    "    prob += ml >= L - Ls\n",
    "    prob += ml >= Ls - L\n",
    "    prob += mc >= C - Cs\n",
    "    prob += mc >= Cs - C\n",
    "    prob += me >= E - Es\n",
    "    prob += me >= Es - E\n",
    "\n",
    "    prob += lpSum([ent_doses[i] for i in range(len(enterals))]) >= 1\n",
    "\n",
    "    prob += f1 == mp + ml + mc\n",
    "    prob += f2 == me\n",
    "    prob += f4 == lpSum([ent_doses[i] for i in range(len(enterals))])\n",
    "    prob += f5 == -lpSum([en_weights[k] * xs[i]\n",
    "                          for i, k in enumerate(list(enterals.keys()))])\n",
    "    prob += f6 == -sipping * lpSum([xs[i] * (\"Сипинг\" in v)\n",
    "                                    for i, (k,v) in enumerate(enteral_tags.items())]) - (1 - sipping) * lpSum([xs[i] * (\"Зонд/г-стома\" in v)\n",
    "                                                                                                               for i, (k,v) in enumerate(enteral_tags.items())])\n",
    "\n",
    "    # MARK: no more than 3 items selected!\n",
    "    prob += lpSum([xs[i] for i in range(len(enterals))]) <= 1\n",
    "\n",
    "    c1, c2, c3, c4, c5, c6 = 1, 10, 0, 1, 10, 10\n",
    "    prob += c1 * f1 + c2 * f2 + c4 * f4 + c5 * f5 + c6 * f6   # c3 * f3 +\n",
    "    # prob += lpSum([xs[i] for i in range(len(enterals))])\n",
    "    \n",
    "    return prob"
   ]
  },
  {
   "cell_type": "code",
   "execution_count": 151,
   "metadata": {},
   "outputs": [],
   "source": [
    "from cancer_nutrition.nutrition.main import NutritionRecommender, ProteinDerivation, CarbohydrateDerivation, LipidDerivation, EnergyDerivation\n"
   ]
  },
  {
   "cell_type": "code",
   "execution_count": 152,
   "metadata": {},
   "outputs": [],
   "source": [
    "data_dict = patient_info.data[0]\n",
    "enterals = data_dict[\"ЭП\"]"
   ]
  },
  {
   "cell_type": "code",
   "execution_count": 153,
   "metadata": {},
   "outputs": [],
   "source": [
    "from cancer_nutrition.utils.measurement.enteral_tagging import EnteralTagging\n",
    "from cancer_nutrition.nutrition.enteral_selection import EnteralSelector"
   ]
  },
  {
   "cell_type": "code",
   "execution_count": 154,
   "metadata": {},
   "outputs": [],
   "source": [
    "classes = {\"Белок\": ProteinDerivation,\n",
    "           \"Жиры\": LipidDerivation,\n",
    "           \"Углеводы\": CarbohydrateDerivation,\n",
    "           \"ККал\": EnergyDerivation}\n",
    "due_demands = {k + \"_due\": _class.compute(data_dict, due_only=True)\n",
    "               for k, _class in classes.items()}\n",
    "patient_info.data[0][\"Риск рефидинг-синдрома\"] = 0 # RefeedingRisk.compute(**patient_info.data[0], **due_demands)\n",
    "# data_dict[\"Производные параметры\"] = data_dict[\"Производные параметры\"] + [RefeedingRisk.name]\n",
    "\n",
    "# demands = {k: dict(zip([\"value\", \"limits\", \"due\"],\n",
    "#                        _class.compute(data_dict)))\n",
    "#            for k, _class in classes.items()}\n",
    "\n",
    "# print(demands, due_demands)\n",
    "\n",
    "# fractions = NutritionTypeFractions.compute(demands, **data_dict)\n",
    "# data_dict[\"fractions\"] = fractions\n",
    "\n",
    "data_dict[EnteralTagging.name] = EnteralTagging.compute(**data_dict)\n",
    "\n",
    "# out_demands, out_parenterals = ParenteralSelector.compute(data_dict, demands, data_dict[\"ПЭП\"])\n",
    "# print(out_parenterals, out_demands)\n",
    "\n",
    "enteral_tags = db_provider.get_nutrition_tags(enteral=True)\n",
    "out_en_demands, out_enterals = {}, {}\n",
    "\n",
    "en_due_demands = {\"ККал\": due_demands[\"ККал_due\"],\n",
    "                  \"Белок\": EnteralSelector._p_en_f(data_dict[\"Возраст\"][\"лет\"],\n",
    "                                                   due_demands[\"ККал_due\"]),\n",
    "                  \"Жиры\": EnteralSelector._l_en_f(data_dict[\"Возраст\"][\"лет\"],\n",
    "                                                  due_demands[\"ККал_due\"]),\n",
    "                  \"Углеводы\": EnteralSelector._c_en_f(data_dict[\"Возраст\"][\"лет\"],\n",
    "                                                      due_demands[\"ККал_due\"])\n",
    "                  }"
   ]
  },
  {
   "cell_type": "code",
   "execution_count": 155,
   "metadata": {},
   "outputs": [
    {
     "data": {
      "text/plain": [
       "{'ККал': 1953.7952000000002,\n",
       " 'Белок': 50.310226400000005,\n",
       " 'Жиры': 94.86761137777779,\n",
       " 'Углеводы': 224.19799920000003}"
      ]
     },
     "execution_count": 155,
     "metadata": {},
     "output_type": "execute_result"
    }
   ],
   "source": [
    "en_due_demands"
   ]
  },
  {
   "cell_type": "code",
   "execution_count": 156,
   "metadata": {},
   "outputs": [],
   "source": [
    "prob = _make_problem(en_due_demands[\"Белок\"], \n",
    "                     en_due_demands[\"Жиры\"], \n",
    "                     en_due_demands[\"Углеводы\"], \n",
    "                     en_due_demands[\"ККал\"], \n",
    "                     1, data_dict[\"ЭП\"], \n",
    "                     enteral_tags, data_dict[EnteralTagging.name], \n",
    "                     data_dict[\"Масса тела\"][\"кг\"], data_dict[\"Возраст\"][\"лет\"])"
   ]
  },
  {
   "cell_type": "code",
   "execution_count": 157,
   "metadata": {},
   "outputs": [
    {
     "data": {
      "text/plain": [
       "1"
      ]
     },
     "execution_count": 157,
     "metadata": {},
     "output_type": "execute_result"
    }
   ],
   "source": [
    "prob.solve()"
   ]
  },
  {
   "cell_type": "code",
   "execution_count": 158,
   "metadata": {},
   "outputs": [],
   "source": [
    "def get_solution(lp_prob):\n",
    "    prob_vars = lp_prob.variablesDict()\n",
    "    out_demands = {key: prob_vars[key].value()\n",
    "                   for key in [\"P\", \"L\", \"C\", \"E\"]}\n",
    "    out_enterals = {}\n",
    "    for i in range(len(enterals)):\n",
    "        if prob_vars[f\"x_{i}\"].value() == 1 and prob_vars[f\"xv_{i}\"].value() > 0:\n",
    "            val = prob_vars[f'xv_{i}'].value() * 100\n",
    "            val = round(val / 10) * 10\n",
    "            out_enterals[list(enterals.keys())[i]] = val\n",
    "\n",
    "    return out_demands, out_enterals"
   ]
  },
  {
   "cell_type": "code",
   "execution_count": 159,
   "metadata": {},
   "outputs": [
    {
     "data": {
      "text/plain": [
       "({'P': 38.270215, 'L': 93.661316, 'C': 223.57863, 'E': 1953.7952},\n",
       " {'Кальшейк (шоколад)': 1010})"
      ]
     },
     "execution_count": 159,
     "metadata": {},
     "output_type": "execute_result"
    }
   ],
   "source": [
    "get_solution(prob)"
   ]
  },
  {
   "cell_type": "code",
   "execution_count": 160,
   "metadata": {},
   "outputs": [
    {
     "data": {
      "text/plain": [
       "{'Полимерная': 0.45,\n",
       " 'Олигомерная': 0.05,\n",
       " 'Гепа': 0.025,\n",
       " 'Нефро': 0.025,\n",
       " 'Пульмо': 0.025,\n",
       " 'Диабет': 0.025,\n",
       " 'Стандартная': 0.225,\n",
       " 'Изокалорическая': 0.0625,\n",
       " 'Гипокалорическая': 0.0125,\n",
       " 'Гиперкалорическая': 0.05,\n",
       " 'Содержит пробиотики': 0.0,\n",
       " 'Без пробиотиков': 0.0625,\n",
       " 'Содержит пищевые волокна': 0.015625,\n",
       " 'Без пищевых волокон': 0.015625,\n",
       " 'Содержит лактозу': 0.0078125,\n",
       " 'Без лактозы': 0.0078125,\n",
       " 'no_sip': 0.0,\n",
       " 'no_en': 0.0}"
      ]
     },
     "execution_count": 160,
     "metadata": {},
     "output_type": "execute_result"
    }
   ],
   "source": [
    "data_dict[EnteralTagging.name]"
   ]
  },
  {
   "cell_type": "code",
   "execution_count": 161,
   "metadata": {},
   "outputs": [],
   "source": [
    "_en_weights = {k: sum([(tag in en_tags) * weight\n",
    "                          for tag, weight in data_dict[EnteralTagging.name].items()])\n",
    "                  for k, en_tags in enteral_tags.items()}\n",
    "    "
   ]
  },
  {
   "cell_type": "code",
   "execution_count": 163,
   "metadata": {},
   "outputs": [
    {
     "data": {
      "text/plain": [
       "['Возраст',\n",
       " 'ИМТ',\n",
       " 'z-score роста',\n",
       " 'z-score массы тела',\n",
       " 'z-score ИМТ',\n",
       " 'Нормальный нутритивный статус',\n",
       " 'Легкая белково-энергетическая недостаточность',\n",
       " 'Умеренная белково-энергетическая недостаточность',\n",
       " 'Тяжелая белково-энергетическая недостаточность',\n",
       " 'Избыточная масса тела',\n",
       " 'Ожирение 1 степени',\n",
       " 'Ожирение 2 степени',\n",
       " 'Ожирение 3 степени',\n",
       " 'Ожирение тяжелое',\n",
       " 'Дефицит висцерального пула белка',\n",
       " 'Тек*Небелковые ккал',\n",
       " 'СКФ',\n",
       " 'Острая печеночная недостаточность',\n",
       " 'Лабораторные признаки холестаза',\n",
       " 'Острое повреждение почек',\n",
       " 'Лабораторные признаки острого панкреатита',\n",
       " 'Ожидаемая токсичность',\n",
       " 'Идеальная масса тела']"
      ]
     },
     "execution_count": 163,
     "metadata": {},
     "output_type": "execute_result"
    }
   ],
   "source": [
    "data_dict[\"Производные параметры\"]"
   ]
  },
  {
   "cell_type": "code",
   "execution_count": 162,
   "metadata": {},
   "outputs": [
    {
     "data": {
      "text/plain": [
       "{'Глутамин Плюс с апельсиновым вкусом': 0.36562500000000003,\n",
       " 'Глутамин Плюс с нейтральным вкусом': 0.36562500000000003,\n",
       " 'Дибен': 0.6156250000000001,\n",
       " 'Изосурс': 0.815625,\n",
       " 'Изосурс Протеин': 0.8031250000000001,\n",
       " 'Изосурс Энерджи Ликвид': 0.8031250000000001,\n",
       " 'Изосурс Энерджи Файбер': 0.8031250000000001,\n",
       " 'Импакт Орал (ваниль)': 0.7406250000000001,\n",
       " 'Импакт Орал (кофе)': 0.7406250000000001,\n",
       " 'Импакт Орал (тропические фрукты)': 0.7406250000000001,\n",
       " 'Импакт Энтерал': 0.815625,\n",
       " 'Интестамин': 0.765625,\n",
       " 'Кальшейк (ваниль)': 0.8109375000000001,\n",
       " 'Кальшейк (клубника)': 0.8109375000000001,\n",
       " 'Кальшейк (нейтральный)': 0.8109375000000001,\n",
       " 'Кальшейк (шоколад)': 0.8109375000000001,\n",
       " 'Кальшейк [банан]': 0.8109375000000001,\n",
       " 'Кубизон': 0.8234375,\n",
       " 'Малютка 1': 0.8234375,\n",
       " 'Новасурс GI control': 0.8234375,\n",
       " 'Новасурс Диабет Плюс': 0.603125,\n",
       " 'Нутридринк (банан)': 0.8109375000000001,\n",
       " 'Нутридринк (шоколад)': 0.8109375000000001,\n",
       " 'Нутридринк [ваниль]': 0.8109375000000001,\n",
       " 'Нутридринк [клубника]': 0.8109375000000001,\n",
       " 'Нутридринк Компакт Протеин (банан)': 0.8109375000000001,\n",
       " 'Нутридринк Компакт Протеин (ваниль)': 0.8109375000000001,\n",
       " 'Нутридринк Компакт Протеин (клубника)': 0.8109375000000001,\n",
       " 'Нутридринк Компакт Протеин (кофе)': 0.8109375000000001,\n",
       " 'Нутридринк Компакт Протеин (персик-манго)': 0.8109375000000001,\n",
       " 'Нутризон (1000мл)': 0.8234375,\n",
       " 'Нутризон (500мл)': 0.8234375,\n",
       " 'Нутризон Диазон': 0.6234375000000001,\n",
       " 'Нутризон Диазон НЕНР': 0.6109375,\n",
       " 'Нутризон Интенс': 0.8109375000000001,\n",
       " 'Нутризон Пептисорб': 0.4234375,\n",
       " 'Нутризон с ПВ (1000мл)': 0.8234375,\n",
       " 'Нутризон с ПВ (500мл)': 0.8234375,\n",
       " 'Нутризон Эдванс Нутридринк': 0.8234375,\n",
       " 'Нутризон Энергия (1000мл)': 0.8109375000000001,\n",
       " 'Нутризон Энергия (500мл)': 0.8109375000000001,\n",
       " 'Нутризон Энергия с ПВ': 0.8109375000000001,\n",
       " 'Нутрикомп Диабет Ликвид (1000мл)': 0.6234375000000001,\n",
       " 'Нутрикомп Диабет Ликвид (500мл)': 0.6234375000000001,\n",
       " 'Нутрикомп Дринк Плюс (банан)': 0.8109375000000001,\n",
       " 'Нутрикомп Дринк Плюс (ваниль)': 0.8109375000000001,\n",
       " 'Нутрикомп Дринк Плюс (клубника)': 0.8109375000000001,\n",
       " 'Нутрикомп Дринк Плюс (шоколад)': 0.8109375000000001,\n",
       " 'Нутрикомп Иммунный Ликвид': 0.8109375000000001,\n",
       " 'Нутрикомп Интенсив Ликвид': 0.8031250000000001,\n",
       " 'Нутрикомп Пептид Ликвид': 0.415625,\n",
       " 'Нутрикомп Стандарт Ликвид (1000мл)': 0.815625,\n",
       " 'Нутрикомп Стандарт Ликвид (500мл)': 0.815625,\n",
       " 'Нутрикомп Файбер Ликвид (1000мл)': 0.8234375,\n",
       " 'Нутрикомп Файбер Ликвид (500мл)': 0.8234375,\n",
       " 'Нутрикомп Энергия (1000мл)': 0.8031250000000001,\n",
       " 'Нутрикомп Энергия (500мл)': 0.8031250000000001,\n",
       " 'Нутрикомп Энергия Ликвид': 0.8031250000000001,\n",
       " 'Нутрикомп Энергия Файбер Ликвид (1000мл)': 0.8031250000000001,\n",
       " 'Нутрикомп Энергия Файбер Ликвид (500мл)': 0.8031250000000001,\n",
       " 'Нутрилон ГА': 0.4234375,\n",
       " 'Нутрини': 0.8234375,\n",
       " 'НутриниДринк': 0.8109375000000001,\n",
       " 'Нутриэн Гепа': 0.6156250000000001,\n",
       " 'Нутриэн Диабет': 0.6156250000000001,\n",
       " 'Нутриэн Иммун (сухая смесь/мл)': 0.8031250000000001,\n",
       " 'Нутриэн Нефро': 0.6156250000000001,\n",
       " 'Нутриэн Остео': 0.815625,\n",
       " 'Нутриэн Пульмо': 0.6156250000000001,\n",
       " 'Нутриэн Стандарт': 0.815625,\n",
       " 'Нутриэн Стандарт (ваниль)': 0.815625,\n",
       " 'Нутриэн Стандарт (нейтральный)': 0.815625,\n",
       " 'Нутриэн Стандарт [готовая жидкая смесь]': 0.815625,\n",
       " 'Нутриэн Стандарт [карамель]': 0.815625,\n",
       " 'Нутриэн Стандарт [клубника]': 0.815625,\n",
       " 'Нутриэн Стандарт Файбер': 0.815625,\n",
       " 'Нутриэн Форт (сухая смесь/мл)': 0.8031250000000001,\n",
       " 'Нутриэн Фтизио': 0.815625,\n",
       " 'Нутриэн Элементаль (сухая смесь/мл)': 0.415625,\n",
       " 'Нутриэн Энергия': 0.8031250000000001,\n",
       " 'Пептамен': 0.36562500000000003,\n",
       " 'Пептамен AF': 0.403125,\n",
       " 'Пептамен Энтерал': 0.4234375,\n",
       " 'Пептамен Юниор': 0.4234375,\n",
       " 'Провайд Экстра со вкусом апельсина-ананаса': 0.403125,\n",
       " 'Провайд Экстра со вкусом Вишни': 0.403125,\n",
       " 'Провайд Экстра со вкусом Лимона-лайма': 0.403125,\n",
       " 'Провайд Экстра со вкусом Черной смородины': 0.403125,\n",
       " 'Провайд Экстра со вкусом Яблока': 0.403125,\n",
       " 'Реконван': 0.815625,\n",
       " 'Ресурс 2.0 файбер (лесные ягоды)': 0.8031250000000001,\n",
       " 'Ресурс 2.0 файбер (нейтральный)': 0.8031250000000001,\n",
       " 'Ресурс 2.0 файбер (персик)': 0.8031250000000001,\n",
       " 'Ресурс Диабет Плюс (ваниль)': 0.603125,\n",
       " 'Ресурс Диабет Плюс (клубника)': 0.603125,\n",
       " 'Ресурс Клинутрен Юниор': 0.8109375000000001,\n",
       " 'Ресурс Оптимум': 0.7609375,\n",
       " 'Суппортан': 0.815625,\n",
       " 'Суппортан напиток со вкусом Каппуччино': 0.8031250000000001,\n",
       " 'Суппортан напиток со вкусом Тропических фруктов': 0.8031250000000001,\n",
       " 'Сурвимед ОПД': 0.415625,\n",
       " 'Фортикер (апельсин-лимон)': 0.8109375000000001,\n",
       " 'Фортикер (капучино)': 0.8109375000000001,\n",
       " 'Фортикер (персик-имбирь)': 0.8109375000000001,\n",
       " 'Фрезубин ВП 2 ккал': 0.8031250000000001,\n",
       " 'Фрезубин ВП 2 ккал с пищевыми волокнами': 0.8031250000000001,\n",
       " 'Фрезубин ВП Энергия': 0.8031250000000001,\n",
       " 'Фрезубин Интенсив': 0.403125,\n",
       " 'Фрезубин Йогурт со вкусом абрикоса-персика': 0.8031250000000001,\n",
       " 'Фрезубин Йогурт со вкусом бисквита': 0.8031250000000001,\n",
       " 'Фрезубин Крем 2 ккал со вкусом ванили': 0.8031250000000001,\n",
       " 'Фрезубин Крем 2 ккал со вкусом земляники': 0.8031250000000001,\n",
       " 'Фрезубин Крем 2 ккал со вкусом капучино': 0.8031250000000001,\n",
       " 'Фрезубин Крем 2 ккал со вкусом пралине': 0.8031250000000001,\n",
       " 'Фрезубин Крем 2 ккал со вкусом шоколада': 0.8031250000000001,\n",
       " 'Фрезубин Напиток 2 ккал с грибным вкусом': 0.8031250000000001,\n",
       " 'Фрезубин напиток 2 ккал с пищевыми волокнами с Нейтральным вкусом': 0.8031250000000001,\n",
       " 'Фрезубин напиток 2 ккал с пищевыми волокнами со вкусом Капучино': 0.8031250000000001,\n",
       " 'Фрезубин напиток 2 ккал с пищевыми волокнами со вкусом Лимона': 0.8031250000000001,\n",
       " 'Фрезубин напиток 2 ккал с пищевыми волокнами со вкусом Шоколада': 0.8031250000000001,\n",
       " 'Фрезубин Напиток 2 ккал с томатно-морковным вкусом': 0.8031250000000001,\n",
       " 'Фрезубин Напиток 2 ккал со вкусом спаржи': 0.8031250000000001,\n",
       " 'Фрезубин напиток 3.2 ккал со вкусом ваниль-карамель': 0.8031250000000001,\n",
       " 'Фрезубин напиток 3.2 ккал со вкусом лесного ореха': 0.8031250000000001,\n",
       " 'Фрезубин напиток 3.2 ккал со вкусом манго': 0.8031250000000001,\n",
       " 'Фрезубин Оригинал (1000мл)': 0.815625,\n",
       " 'Фрезубин Оригинал (500мл)': 0.815625,\n",
       " 'Фрезубин Оригинал с пищевыми волокнами': 0.815625,\n",
       " 'Фрезубин сгущенный уровень 1 со вкусом ванили': 0.8031250000000001,\n",
       " 'Фрезубин сгущенный уровень 1 со вкусом земляники': 0.8031250000000001,\n",
       " 'Фрезубин сгущенный уровень 2 со вкусом ванили': 0.8031250000000001,\n",
       " 'Фрезубин сгущенный уровень 2 со вкусом земляники': 0.8031250000000001,\n",
       " 'Фрезубин Энергия c пищевыми волокнами': 0.8031250000000001}"
      ]
     },
     "execution_count": 162,
     "metadata": {},
     "output_type": "execute_result"
    }
   ],
   "source": [
    "_en_weights"
   ]
  },
  {
   "cell_type": "code",
   "execution_count": null,
   "metadata": {},
   "outputs": [],
   "source": []
  },
  {
   "cell_type": "code",
   "execution_count": null,
   "metadata": {},
   "outputs": [],
   "source": []
  },
  {
   "cell_type": "code",
   "execution_count": null,
   "metadata": {},
   "outputs": [],
   "source": []
  },
  {
   "cell_type": "code",
   "execution_count": null,
   "metadata": {},
   "outputs": [],
   "source": []
  },
  {
   "cell_type": "code",
   "execution_count": null,
   "metadata": {},
   "outputs": [],
   "source": []
  },
  {
   "cell_type": "code",
   "execution_count": null,
   "metadata": {},
   "outputs": [],
   "source": []
  }
 ],
 "metadata": {
  "kernelspec": {
   "display_name": "Python 3",
   "language": "python",
   "name": "python3"
  },
  "language_info": {
   "codemirror_mode": {
    "name": "ipython",
    "version": 3
   },
   "file_extension": ".py",
   "mimetype": "text/x-python",
   "name": "python",
   "nbconvert_exporter": "python",
   "pygments_lexer": "ipython3",
   "version": "3.8.17"
  }
 },
 "nbformat": 4,
 "nbformat_minor": 4
}
