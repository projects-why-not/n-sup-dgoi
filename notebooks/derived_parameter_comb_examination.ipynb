{
 "cells": [
  {
   "cell_type": "markdown",
   "metadata": {},
   "source": [
    "# 0. Imports, funcs"
   ]
  },
  {
   "cell_type": "code",
   "execution_count": 159,
   "metadata": {},
   "outputs": [],
   "source": [
    "import numpy as np\n",
    "import matplotlib.pyplot as plt\n",
    "import pandas as pd\n",
    "\n",
    "from tqdm.notebook import tqdm"
   ]
  },
  {
   "cell_type": "code",
   "execution_count": 2,
   "metadata": {},
   "outputs": [],
   "source": [
    "from cancer_nutrition.utils.db.frontend import DBProvider\n",
    "from cancer_nutrition.utils.constants.db import *\n",
    "from cancer_nutrition.utils.form.form import form_to_dict"
   ]
  },
  {
   "cell_type": "code",
   "execution_count": 3,
   "metadata": {},
   "outputs": [],
   "source": [
    "db_provider = DBProvider(DB_NAME, DB_USER, DB_PASSWD, DB_HOST, 11459)"
   ]
  },
  {
   "cell_type": "code",
   "execution_count": 158,
   "metadata": {},
   "outputs": [],
   "source": [
    "from cancer_nutrition.utils.value import Value\n",
    "from cancer_nutrition.utils.age import Age\n",
    "\n",
    "from cancer_nutrition.nutrition.parenteral_selection import ParenteralSelector\n",
    "from cancer_nutrition.nutrition.main import NutritionRecommender, RecommendationSet\n",
    "from cancer_nutrition.utils.measurement.nutrition_type_fraction import NutritionTypeFractions\n",
    "from cancer_nutrition.utils.measurement.perfect_mass import PerfectMass\n",
    "\n",
    "from cancer_nutrition.nutrition.protein import ProteinDerivation\n",
    "from cancer_nutrition.nutrition.lipid import LipidDerivation\n",
    "from cancer_nutrition.nutrition.carbohydrate import CarbohydrateDerivation\n",
    "from cancer_nutrition.nutrition.energy import EnergyDerivation\n"
   ]
  },
  {
   "cell_type": "code",
   "execution_count": 155,
   "metadata": {},
   "outputs": [],
   "source": [
    "def get_rec_set(data_dict):\n",
    "    classes = {\"Белок\": ProteinDerivation,\n",
    "               \"Жиры\": LipidDerivation,\n",
    "               \"Углеводы\": CarbohydrateDerivation,\n",
    "#                \"ККал\": EnergyDerivation\n",
    "              }\n",
    "    due_demands = {k + \"_due\": _class.compute(data_dict, due_only=True)\n",
    "                   for k, _class in classes.items()}\n",
    "#     data_dict[RefeedingRisk.name] = RefeedingRisk.compute(**data_dict, **due_demands)\n",
    "#     data_dict[\"Производные параметры\"] = data_dict[\"Производные параметры\"] + [RefeedingRisk.name]\n",
    "\n",
    "    demands = {k: dict(zip([\"value\", \"limits\", \"due\"],\n",
    "                           _class.compute(data_dict)))\n",
    "               for k, _class in classes.items()}\n",
    "\n",
    "#     print(demands, due_demands)\n",
    "\n",
    "    fractions = NutritionTypeFractions.compute(demands, **data_dict)\n",
    "    data_dict[\"fractions\"] = fractions\n",
    "\n",
    "#     data_dict[EnteralTagging.name] = EnteralTagging.compute(**data_dict)\n",
    "\n",
    "    out_demands, out_parenterals = ParenteralSelector.compute(data_dict, demands, data_dict[\"ПЭП\"])\n",
    "    # print(out_parenterals, out_demands)\n",
    "\n",
    "#     enteral_tags = self.db_wrapper.get_nutrition_tags(enteral=True)\n",
    "#     out_en_demands, out_enterals = {}, {}\n",
    "\n",
    "#     en_due_demands = {\"ККал\": due_demands[\"ККал_due\"],\n",
    "#                       \"Белок\": EnteralSelector._p_en_f(data_dict[\"Возраст\"][\"лет\"],\n",
    "#                                                        due_demands[\"ККал_due\"]),\n",
    "#                       \"Жиры\": EnteralSelector._l_en_f(data_dict[\"Возраст\"][\"лет\"],\n",
    "#                                                       due_demands[\"ККал_due\"]),\n",
    "#                       \"Углеводы\": EnteralSelector._c_en_f(data_dict[\"Возраст\"][\"лет\"],\n",
    "#                                                           due_demands[\"ККал_due\"])\n",
    "#                       }\n",
    "\n",
    "#     for sip in [False, True]:\n",
    "#         if data_dict[\"fractions\"][\"сипинг\" if sip else \"зонд\"] == 0:\n",
    "#             continue\n",
    "#         en_demands, enterals = EnteralSelector.compute(data_dict,\n",
    "#                                                        demands,\n",
    "#                                                        data_dict[\"ЭП\"],\n",
    "#                                                        enteral_tags,\n",
    "#                                                        sipping=sip)\n",
    "#         for k in enterals:\n",
    "#             enterals[k] = {\"dose\": round(enterals[k] * data_dict[\"fractions\"][\"сипинг\" if sip else \"зонд\"] / 10) * 10,\n",
    "#                            \"tags\": {tag: int(tag in enteral_tags[k])\n",
    "#                                     for tag in data_dict[EnteralTagging.name].keys()},\n",
    "#                            \"features\": {fea: val for fea, val in data_dict[\"ЭП\"][k].items()}}\n",
    "#         out_en_demands[f\"sipping = {sip}\"] = en_due_demands  # en_demands  # {k: v / data_dict[\"Масса тела\"][\"кг\"] for k,v in en_demands.items()}\n",
    "#         out_enterals[f\"sipping = {sip}\"] = enterals\n",
    "\n",
    "    recom_set = RecommendationSet(data_dict)\n",
    "    out_parenterals = {k: {\"dose\": v,\n",
    "                           \"features\": data_dict[\"ПЭП\"][k]}\n",
    "                       for k,v in out_parenterals.items()}\n",
    "\n",
    "    recom_set[\"ПЭП\"] = {\"nutrition\": out_parenterals,\n",
    "                        \"demands\": {k + \"_due\": dem[\"due\"]\n",
    "                                    for k, dem in demands.items()}}\n",
    "#     for sip in [False, True]:\n",
    "#         recom_set[\"сипинг\" if sip else \"зонд\"] = {\"nutrition\": out_enterals.get(f\"sipping = {sip}\", {}),\n",
    "#                                                   \"demands\": out_en_demands.get(f\"sipping = {sip}\", {})}\n",
    "\n",
    "    return recom_set"
   ]
  },
  {
   "cell_type": "markdown",
   "metadata": {},
   "source": [
    "  "
   ]
  },
  {
   "cell_type": "markdown",
   "metadata": {},
   "source": [
    " "
   ]
  },
  {
   "cell_type": "markdown",
   "metadata": {},
   "source": [
    " "
   ]
  },
  {
   "cell_type": "markdown",
   "metadata": {},
   "source": [
    "# 1. Parameter combinations"
   ]
  },
  {
   "cell_type": "code",
   "execution_count": 131,
   "metadata": {},
   "outputs": [],
   "source": [
    "domains = {'Возраст':[Age({\"мес\": 12}), Age({\"мес\": 34}), Age({\"мес\": 72})],\n",
    "           'Масса тела': [Value(5, \"кг\"), Value(15, \"кг\"), Value(36, \"кг\"), Value(48, \"кг\")],\n",
    "           \"Пол\": [\"Мужской\", \"Женский\"],\n",
    "            'Нормальный нутритивный статус': [0,1],\n",
    "            'Легкая белково-энергетическая недостаточность': [0,1],\n",
    "            'Умеренная белково-энергетическая недостаточность': [0,1],\n",
    "            'Тяжелая белково-энергетическая недостаточность': [0,1],\n",
    "            'Избыточная масса тела': [0,1],\n",
    "            'Ожирение 1 степени': [0,1],\n",
    "           'Ожирение 2 степени': [0,1],\n",
    "           'Ожирение 3 степени': [0,1],\n",
    "           'Ожирение тяжелое': [0,1],\n",
    "            'Дефицит висцерального пула белка': [0,1],\n",
    "            'Тек*Небелковые ккал': [19, 26],\n",
    "            'Острая печеночная недостаточность': [0,1],\n",
    "            'Лабораторные признаки холестаза': [0,1],\n",
    "            'Острое повреждение почек': [0,1],\n",
    "            'Лабораторные признаки острого панкреатита': [0,1],\n",
    "           \"Хроническая болезнь почек\": [0,1],\n",
    "           \"Потребность в дотации кислорода\": [0,1],\n",
    "           \"Наличие центрального венозного катетера (либо будет установлен в ближайшие 48 часов)\": [0,1],\n",
    "            'Ожидаемая токсичность': [0,1],\n",
    "           \"Этап терапии\": [\"CAR T-Cells терапия\", \"другое\"],\n",
    "            'Риск рефидинг-синдрома': np.arange(0, 1.1, 0.1).tolist(),\n",
    "            'Триглицериды': [1.0, 3.1, 4.6], \n",
    "           \"Активность пациента\": [\"активен и мобилен\", \n",
    "                                   \"активность ограничена\", \n",
    "                                   \"тяжелое состояние - требует поддержки жизненных функций\"]\n",
    "          }"
   ]
  },
  {
   "cell_type": "code",
   "execution_count": 132,
   "metadata": {},
   "outputs": [],
   "source": [
    "nutr_status_keys = list(domains)[3:12]"
   ]
  },
  {
   "cell_type": "code",
   "execution_count": 133,
   "metadata": {},
   "outputs": [],
   "source": [
    "nutr_status_combs = np.vstack(np.meshgrid(*[domains[k] \n",
    "                                for k in nutr_status_keys])).reshape((len(nutr_status_keys), -1)).T\n",
    "nutr_status_combs = nutr_status_combs[nutr_status_combs.sum(axis=1) == 1]"
   ]
  },
  {
   "cell_type": "code",
   "execution_count": 134,
   "metadata": {},
   "outputs": [],
   "source": [
    "combs = np.vstack(np.meshgrid(*[domains[k] \n",
    "                                for k in domains \n",
    "                                if k not in nutr_status_keys])).reshape((len(domains) - len(nutr_status_keys), \n",
    "                                                                         -1)).T"
   ]
  },
  {
   "cell_type": "code",
   "execution_count": 135,
   "metadata": {},
   "outputs": [],
   "source": [
    "df_combs = pd.DataFrame(combs, \n",
    "                        columns=[k for k in domains if k not in nutr_status_keys])"
   ]
  },
  {
   "cell_type": "code",
   "execution_count": 136,
   "metadata": {},
   "outputs": [],
   "source": [
    "parenterals = db_provider.get_nutrition_features(False)"
   ]
  },
  {
   "cell_type": "code",
   "execution_count": 148,
   "metadata": {},
   "outputs": [],
   "source": [
    "constants = {\"Cколько часов в сутках доступно для потенциального ПЭП\": 24, \n",
    "             \"Частичная нутритивная поддержка\": 0,\n",
    "             \"Полное восполнение питания\": 1,\n",
    "             \"Доля энтерального питания (сипинг)\": 0,\n",
    "             \"Доля энтерального питания (зонд/стома)\": 0,\n",
    "             \"Доля парентерального питания\": 100, \n",
    "             \"ПЭП\": parenterals, \n",
    "             \"Производные параметры\": []}"
   ]
  },
  {
   "cell_type": "code",
   "execution_count": 149,
   "metadata": {},
   "outputs": [],
   "source": [
    "analyses = {\"Глюкоза\": [4, 12], \n",
    "            \"Лактат\": [1.5, 2.5]}"
   ]
  },
  {
   "cell_type": "code",
   "execution_count": 150,
   "metadata": {},
   "outputs": [],
   "source": [
    "analysis_combs = np.vstack(np.meshgrid(*list(analyses.values()))).reshape((len(analyses), -1)).T"
   ]
  },
  {
   "cell_type": "code",
   "execution_count": 151,
   "metadata": {},
   "outputs": [],
   "source": [
    "def check_combination(**comb):\n",
    "    try:\n",
    "        rec_set = get_rec_set(comb)\n",
    "        return True, rec_set\n",
    "    except Exception as e:\n",
    "        return False, e\n",
    "        "
   ]
  },
  {
   "cell_type": "code",
   "execution_count": 152,
   "metadata": {},
   "outputs": [],
   "source": []
  },
  {
   "cell_type": "code",
   "execution_count": null,
   "metadata": {},
   "outputs": [],
   "source": []
  },
  {
   "cell_type": "code",
   "execution_count": 157,
   "metadata": {},
   "outputs": [
    {
     "data": {
      "text/plain": [
       "175177728"
      ]
     },
     "execution_count": 157,
     "metadata": {},
     "output_type": "execute_result"
    }
   ],
   "source": [
    "len(nutr_status_keys) * len(analysis_combs) * len(df_combs)"
   ]
  },
  {
   "cell_type": "code",
   "execution_count": 161,
   "metadata": {
    "scrolled": true
   },
   "outputs": [
    {
     "data": {
      "application/vnd.jupyter.widget-view+json": {
       "model_id": "7bcfd5bcb99641aeb44525932416ca7a",
       "version_major": 2,
       "version_minor": 0
      },
      "text/plain": [
       "  0%|          | 0/4866048 [00:00<?, ?it/s]"
      ]
     },
     "metadata": {},
     "output_type": "display_data"
    },
    {
     "name": "stderr",
     "output_type": "stream",
     "text": [
      "\n",
      "KeyboardInterrupt\n",
      "\n"
     ]
    }
   ],
   "source": [
    "for act_nutr_status in nutr_status_keys:\n",
    "    nutr_status = {k: 0 for k in nutr_status_keys}\n",
    "    nutr_status[act_nutr_status] = 1\n",
    "    for an_comb in analysis_combs:\n",
    "        analysis_comb = {item: an_comb[i] \n",
    "                         for i, item in enumerate(list(analyses.keys()))}\n",
    "        for i in tqdm(range(len(df_combs))):\n",
    "            perfect_mass = PerfectMass.compute(**nutr_status)\n",
    "            comb_res = check_combination(**df_combs.loc[i].to_dict(), \n",
    "                                         **constants, \n",
    "                                         **nutr_status, \n",
    "                                         **analysis_comb, \n",
    "                                         **{\"Идеальная масса тела\": perfect_mass})\n",
    "            \n",
    "#             if not comb_res[0]:\n",
    "#                 raise comb_res[1]\n",
    "\n",
    "#             break\n",
    "#         break\n",
    "#     break\n"
   ]
  },
  {
   "cell_type": "code",
   "execution_count": null,
   "metadata": {},
   "outputs": [],
   "source": []
  },
  {
   "cell_type": "code",
   "execution_count": null,
   "metadata": {},
   "outputs": [],
   "source": []
  },
  {
   "cell_type": "code",
   "execution_count": null,
   "metadata": {},
   "outputs": [],
   "source": []
  },
  {
   "cell_type": "code",
   "execution_count": null,
   "metadata": {},
   "outputs": [],
   "source": []
  },
  {
   "cell_type": "code",
   "execution_count": null,
   "metadata": {},
   "outputs": [],
   "source": []
  },
  {
   "cell_type": "code",
   "execution_count": null,
   "metadata": {},
   "outputs": [],
   "source": []
  },
  {
   "cell_type": "code",
   "execution_count": null,
   "metadata": {},
   "outputs": [],
   "source": []
  },
  {
   "cell_type": "code",
   "execution_count": null,
   "metadata": {},
   "outputs": [],
   "source": []
  },
  {
   "cell_type": "code",
   "execution_count": null,
   "metadata": {},
   "outputs": [],
   "source": []
  }
 ],
 "metadata": {
  "kernelspec": {
   "display_name": "Python 3",
   "language": "python",
   "name": "python3"
  },
  "language_info": {
   "codemirror_mode": {
    "name": "ipython",
    "version": 3
   },
   "file_extension": ".py",
   "mimetype": "text/x-python",
   "name": "python",
   "nbconvert_exporter": "python",
   "pygments_lexer": "ipython3",
   "version": "3.8.17"
  }
 },
 "nbformat": 4,
 "nbformat_minor": 4
}
