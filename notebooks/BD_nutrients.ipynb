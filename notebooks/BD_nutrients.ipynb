{
 "cells": [
  {
   "cell_type": "code",
   "execution_count": 23,
   "id": "57982598",
   "metadata": {},
   "outputs": [
    {
     "name": "stdout",
     "output_type": "stream",
     "text": [
      "Requirement already satisfied: mysql.connector in c:\\users\\star_inn\\anaconda3\\lib\\site-packages (2.2.9)\n"
     ]
    }
   ],
   "source": [
    "!pip install mysql.connector"
   ]
  },
  {
   "cell_type": "code",
   "execution_count": 5,
   "id": "61c26935",
   "metadata": {},
   "outputs": [],
   "source": [
    "#Передаём строковые значения параметров для запроса. В идеале, это должен быть результат обработки запроса GET от страницы\n",
    "#через который всё преобразуется в такую строку.\n",
    "#Пример работы на is_enternal: is_enternal='0,1' - это оба, is_enternal='1' - энтеральное, is_enternal='1' - неэнетеральное.\n",
    "#Так получаме набор тэгов для встраивания в строку в следующей функции\n",
    "is_enternal='0,1'\n",
    "polim='3,4'\n",
    "caloric='5,6,7'\n",
    "special='21, 10, 11, 12, 13'\n",
    "vol='8,9'"
   ]
  },
  {
   "cell_type": "code",
   "execution_count": 2,
   "id": "f52f1aed",
   "metadata": {},
   "outputs": [],
   "source": [
    "#Функия для получения таблицы с именами, производителем, энтеральностью и доступностью веществ по заявленым тэгам\n",
    "def get_by_tags (polim,caloric,special,vol,is_enternal):\n",
    "    return (f\"SELECT n0.id as nutrient_id, n0.name, n0.manufacturer, n0.is_enteral, n0.is_available FROM `nutrition` n0 INNER JOIN `nutrition_tagging` n1 ON n0.id = n1.nutrient_id and n1.tag_id in ({polim}) INNER JOIN `nutrition_tagging` n2 ON n1.nutrient_id = n2.nutrient_id and n2.tag_id in ({caloric}) INNER JOIN `nutrition_tagging` n3 ON n3.nutrient_id = n2.nutrient_id and n3.tag_id in ({special}) INNER JOIN `nutrition_tagging` n4 ON n4.nutrient_id = n3.nutrient_id and n4.tag_id in ({vol}) INNER JOIN `nutrition` n5 ON n0.name = n5.name and n5.is_enteral in ({is_enternal});\")"
   ]
  },
  {
   "cell_type": "code",
   "execution_count": 3,
   "id": "e8772962",
   "metadata": {},
   "outputs": [],
   "source": [
    "#Функия для получения таблицы со списокм всех тэгов, конкатенированных для каждого нутриента\n",
    "def get_nutrient_tags ():\n",
    "    return ('select n1.nutrient_id, GROUP_CONCAT(CONCAT(n2.tag)) as \"all tags\" from nutrition_tagging n1 INNER JOIN nutrition_tag n2 ON n1.tag_id=n2.id GROUP BY n1.nutrient_id;')"
   ]
  },
  {
   "cell_type": "code",
   "execution_count": 4,
   "id": "76db5e43",
   "metadata": {},
   "outputs": [],
   "source": [
    "#Функия для получения таблицы пищевой и энергетической ценностей для каждого нутриента\n",
    "def get_PFCE_mash_positive ():\n",
    "    return ('select n2.nutrient_id, n1.id as feature_id, n1.name, n2.value from nutrition_feature n1 INNER JOIN nutrition_feature_value n2 on n1.id=n2.feature_id where id in (16, 46, 29, 49, 50, 51, 13, 48);')"
   ]
  },
  {
   "cell_type": "code",
   "execution_count": 7,
   "id": "2557a5f9",
   "metadata": {},
   "outputs": [],
   "source": [
    "##Запрос и запись в датафреймы всех необходимых для финальной таблицы данных из БД\n",
    "import mysql.connector\n",
    "from mysql.connector import connect, Error\n",
    "import pandas as pd\n",
    "from pandas import DataFrame\n",
    "DB_NAME = \"oncology_nutrition\"\n",
    "DB_USER = \"nutrition_list\"\n",
    "DB_PASSWD = \"nutrListWhiteForest\"\n",
    "DB_HOST = \"projectswhynot.site\"\n",
    "connection = connect(host=DB_HOST,\n",
    "                user=DB_USER,\n",
    "                password=DB_PASSWD,\n",
    "                database=DB_NAME,\n",
    "                port=11459)\n",
    "cursor = connection.cursor()\n",
    "cursor.execute(get_by_tags (polim,caloric,special,vol,is_enternal))\n",
    "\n",
    "nutr_search_res = DataFrame(cursor.fetchall())\n",
    "nutr_search_res.columns = cursor.column_names\n",
    "\n",
    "cursor.execute(get_nutrient_tags())\n",
    "\n",
    "nutr_tags = DataFrame(cursor.fetchall())\n",
    "nutr_tags.columns = cursor.column_names\n",
    "\n",
    "cursor.execute(get_PFCE_mash_positive())\n",
    "\n",
    "PFCE_values_mash= DataFrame(cursor.fetchall())\n",
    "PFCE_values_mash.columns = cursor.column_names\n"
   ]
  },
  {
   "cell_type": "code",
   "execution_count": 31,
   "id": "32137df3",
   "metadata": {},
   "outputs": [],
   "source": [
    "##Слияние датавреймов чтобы было нормально и читаемо\n",
    "P_values=PFCE_values_mash[PFCE_values_mash['name']=='Белок/100мл']\n",
    "F_values=PFCE_values_mash[PFCE_values_mash['name']=='Жиры/100мл']\n",
    "C_values=PFCE_values_mash[PFCE_values_mash['name']=='Углеводы/100мл']\n",
    "E_values=PFCE_values_mash[(PFCE_values_mash['name']=='Ккал/100мл') | (PFCE_values_mash['name']=='ККал/100мл')]\n",
    "PFCE_values=pd.merge(pd.merge(P_values,F_values,on='nutrient_id'),pd.merge(C_values,E_values,on='nutrient_id'),on='nutrient_id')"
   ]
  },
  {
   "cell_type": "code",
   "execution_count": 41,
   "id": "9dc78286",
   "metadata": {},
   "outputs": [
    {
     "data": {
      "text/html": [
       "<div>\n",
       "<style scoped>\n",
       "    .dataframe tbody tr th:only-of-type {\n",
       "        vertical-align: middle;\n",
       "    }\n",
       "\n",
       "    .dataframe tbody tr th {\n",
       "        vertical-align: top;\n",
       "    }\n",
       "\n",
       "    .dataframe thead th {\n",
       "        text-align: right;\n",
       "    }\n",
       "</style>\n",
       "<table border=\"1\" class=\"dataframe\">\n",
       "  <thead>\n",
       "    <tr style=\"text-align: right;\">\n",
       "      <th></th>\n",
       "      <th>Название</th>\n",
       "      <th>Производитель</th>\n",
       "      <th>ЭП/ПЭП</th>\n",
       "      <th>Белков в 100 мл</th>\n",
       "      <th>Жиров в 100 мл</th>\n",
       "      <th>Углеводов в 100 мл</th>\n",
       "      <th>ККал в 100 мл</th>\n",
       "      <th>Характеристики</th>\n",
       "      <th>Наличие в клинике</th>\n",
       "    </tr>\n",
       "  </thead>\n",
       "  <tbody>\n",
       "    <tr>\n",
       "      <th>4</th>\n",
       "      <td>Нутридринк (банан)</td>\n",
       "      <td>Нутриция</td>\n",
       "      <td>1</td>\n",
       "      <td>5.9</td>\n",
       "      <td>5.8</td>\n",
       "      <td>18.4</td>\n",
       "      <td>150</td>\n",
       "      <td>Сипинг,Полимерная,Без пищевых волокон,Без проб...</td>\n",
       "      <td>1</td>\n",
       "    </tr>\n",
       "  </tbody>\n",
       "</table>\n",
       "</div>"
      ],
      "text/plain": [
       "             Название Производитель  ЭП/ПЭП Белков в 100 мл Жиров в 100 мл  \\\n",
       "4  Нутридринк (банан)      Нутриция       1             5.9            5.8   \n",
       "\n",
       "  Углеводов в 100 мл ККал в 100 мл  \\\n",
       "4               18.4           150   \n",
       "\n",
       "                                      Характеристики  Наличие в клинике  \n",
       "4  Сипинг,Полимерная,Без пищевых волокон,Без проб...                  1  "
      ]
     },
     "execution_count": 41,
     "metadata": {},
     "output_type": "execute_result"
    }
   ],
   "source": [
    "##Слияние всего в сводную таблицу\n",
    "data=pd.merge(pd.merge(nutr_search_res,PFCE_values,on='nutrient_id'),nutr_tags,on='nutrient_id')\n",
    "data=data.rename(columns={\"name\": \"Название\", \"manufacturer\": \"Производитель\", \"is_enteral\": \"ЭП/ПЭП\", \"value_x_x\":\"Белков в 100 мл\", \"value_y_x\":\"Жиров в 100 мл\",\"value_x_y\":\"Углеводов в 100 мл\",\"value_y_y\":\"ККал в 100 мл\", \"all tags\": \"Характеристики\",\"is_available\": \"Наличие в клинике\"})\n",
    "data=data.drop(['feature_id_x_x', 'name_x_x','nutrient_id','feature_id_y_x', 'name_y_x', 'feature_id_x_y', 'name_x_y','feature_id_y_y', 'name_y_y'], axis=1)\n",
    "cols=['Название',\n",
    " 'Производитель',\n",
    " 'ЭП/ПЭП',\n",
    " 'Белков в 100 мл',\n",
    " 'Жиров в 100 мл',\n",
    " 'Углеводов в 100 мл',\n",
    " 'ККал в 100 мл',\n",
    " 'Характеристики','Наличие в клинике']\n",
    "data = data[cols]"
   ]
  },
  {
   "cell_type": "code",
   "execution_count": null,
   "id": "55130954",
   "metadata": {},
   "outputs": [
    {
     "name": "stdout",
     "output_type": "stream",
     "text": [
      " * Serving Flask app \"__main__\" (lazy loading)\n",
      " * Environment: production\n",
      "\u001b[31m   WARNING: This is a development server. Do not use it in a production deployment.\u001b[0m\n",
      "\u001b[2m   Use a production WSGI server instead.\u001b[0m\n",
      " * Debug mode: off\n"
     ]
    },
    {
     "name": "stderr",
     "output_type": "stream",
     "text": [
      " * Running on http://127.0.0.1:5000/ (Press CTRL+C to quit)\n",
      "127.0.0.1 - - [17/Jul/2023 02:12:00] \"GET / HTTP/1.1\" 200 -\n",
      "127.0.0.1 - - [17/Jul/2023 02:12:00] \"GET /pages/index.css HTTP/1.1\" 404 -\n",
      "127.0.0.1 - - [17/Jul/2023 02:13:00] \"GET / HTTP/1.1\" 200 -\n",
      "127.0.0.1 - - [17/Jul/2023 02:13:00] \"GET /pages/index.css HTTP/1.1\" 404 -\n"
     ]
    }
   ],
   "source": [
    "##безуспешная попытка передать что-то на страницу\n",
    "\n",
    "from flask import Flask, request, render_template\n",
    "app = Flask(__name__)\n",
    "@app.route('/', methods =[\"GET\"])\n",
    "def index():\n",
    "    if request.method == \"POST\":\n",
    "       # getting input with name = fname in HTML form\n",
    "       nutr_type = request.form.get(\"nutr_type\")\n",
    "       # getting input with name = lname in HTML form\n",
    "       polymer = request.form.get(\"polymer\")\n",
    "       return nutr_type+polymer\n",
    "    return render_template(\"index.html\", nutritions=['1','2','3'])\n",
    "if __name__=='__main__':\n",
    "    app.run()"
   ]
  }
 ],
 "metadata": {
  "kernelspec": {
   "display_name": "Python 3 (ipykernel)",
   "language": "python",
   "name": "python3"
  },
  "language_info": {
   "codemirror_mode": {
    "name": "ipython",
    "version": 3
   },
   "file_extension": ".py",
   "mimetype": "text/x-python",
   "name": "python",
   "nbconvert_exporter": "python",
   "pygments_lexer": "ipython3",
   "version": "3.9.13"
  }
 },
 "nbformat": 4,
 "nbformat_minor": 5
}
